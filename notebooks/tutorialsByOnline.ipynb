{
 "cells": [
  {
   "cell_type": "code",
   "execution_count": 1,
   "metadata": {},
   "outputs": [],
   "source": [
    "import pandas as pd"
   ]
  },
  {
   "cell_type": "code",
   "execution_count": 2,
   "metadata": {},
   "outputs": [],
   "source": [
    "import matplotlib.pyplot as plt"
   ]
  },
  {
   "cell_type": "code",
   "execution_count": 21,
   "metadata": {},
   "outputs": [],
   "source": [
    "import numpy as np"
   ]
  },
  {
   "cell_type": "code",
   "execution_count": 3,
   "metadata": {},
   "outputs": [],
   "source": [
    "plt.rcParams['figure.figsize'] = [15, 15]"
   ]
  },
  {
   "cell_type": "code",
   "execution_count": 4,
   "metadata": {},
   "outputs": [],
   "source": [
    "all_courses = pd.read_csv(\"../data/uoft-first-year-data-2020-07-28.csv\")"
   ]
  },
  {
   "cell_type": "code",
   "execution_count": 9,
   "metadata": {},
   "outputs": [],
   "source": [
    "tutorials = all_courses[all_courses.teachingMethod.eq('TUT')]"
   ]
  },
  {
   "cell_type": "code",
   "execution_count": 16,
   "metadata": {},
   "outputs": [],
   "source": [
    "tutorials_with_enrollment = tutorials[tutorials.enrollmentCapacity > 0]"
   ]
  },
  {
   "cell_type": "code",
   "execution_count": 17,
   "metadata": {},
   "outputs": [],
   "source": [
    "tutorials_with_enrollment['enrollmentPercentage'] = tutorials_with_enrollment.apply(lambda row: row['actualEnrolment'] / row['enrollmentCapacity'], axis=1)"
   ]
  },
  {
   "cell_type": "code",
   "execution_count": 18,
   "metadata": {},
   "outputs": [
    {
     "data": {
      "text/html": [
       "<div>\n",
       "<style scoped>\n",
       "    .dataframe tbody tr th:only-of-type {\n",
       "        vertical-align: middle;\n",
       "    }\n",
       "\n",
       "    .dataframe tbody tr th {\n",
       "        vertical-align: top;\n",
       "    }\n",
       "\n",
       "    .dataframe thead th {\n",
       "        text-align: right;\n",
       "    }\n",
       "</style>\n",
       "<table border=\"1\" class=\"dataframe\">\n",
       "  <thead>\n",
       "    <tr style=\"text-align: right;\">\n",
       "      <th></th>\n",
       "      <th>code</th>\n",
       "      <th>org</th>\n",
       "      <th>section</th>\n",
       "      <th>enrollmentCapacity</th>\n",
       "      <th>actualEnrolment</th>\n",
       "      <th>deliveryMode</th>\n",
       "      <th>teachingMethod</th>\n",
       "      <th>enrollmentControls</th>\n",
       "      <th>enrollmentPercentage</th>\n",
       "    </tr>\n",
       "  </thead>\n",
       "  <tbody>\n",
       "    <tr>\n",
       "      <th>3</th>\n",
       "      <td>USA300H1</td>\n",
       "      <td>CSUS</td>\n",
       "      <td>S</td>\n",
       "      <td>9</td>\n",
       "      <td>6</td>\n",
       "      <td>CLASS</td>\n",
       "      <td>TUT</td>\n",
       "      <td>NaN</td>\n",
       "      <td>0.666667</td>\n",
       "    </tr>\n",
       "    <tr>\n",
       "      <th>4</th>\n",
       "      <td>USA300H1</td>\n",
       "      <td>CSUS</td>\n",
       "      <td>S</td>\n",
       "      <td>9</td>\n",
       "      <td>1</td>\n",
       "      <td>CLASS</td>\n",
       "      <td>TUT</td>\n",
       "      <td>NaN</td>\n",
       "      <td>0.111111</td>\n",
       "    </tr>\n",
       "    <tr>\n",
       "      <th>5</th>\n",
       "      <td>USA300H1</td>\n",
       "      <td>CSUS</td>\n",
       "      <td>S</td>\n",
       "      <td>21</td>\n",
       "      <td>5</td>\n",
       "      <td>ONLSYNC</td>\n",
       "      <td>TUT</td>\n",
       "      <td>NaN</td>\n",
       "      <td>0.238095</td>\n",
       "    </tr>\n",
       "    <tr>\n",
       "      <th>6</th>\n",
       "      <td>USA300H1</td>\n",
       "      <td>CSUS</td>\n",
       "      <td>S</td>\n",
       "      <td>21</td>\n",
       "      <td>3</td>\n",
       "      <td>ONLSYNC</td>\n",
       "      <td>TUT</td>\n",
       "      <td>NaN</td>\n",
       "      <td>0.142857</td>\n",
       "    </tr>\n",
       "    <tr>\n",
       "      <th>21</th>\n",
       "      <td>ANA300Y1</td>\n",
       "      <td>ANA</td>\n",
       "      <td>Y</td>\n",
       "      <td>67</td>\n",
       "      <td>67</td>\n",
       "      <td>ONLSYNC</td>\n",
       "      <td>TUT</td>\n",
       "      <td>NaN</td>\n",
       "      <td>1.000000</td>\n",
       "    </tr>\n",
       "    <tr>\n",
       "      <th>...</th>\n",
       "      <td>...</td>\n",
       "      <td>...</td>\n",
       "      <td>...</td>\n",
       "      <td>...</td>\n",
       "      <td>...</td>\n",
       "      <td>...</td>\n",
       "      <td>...</td>\n",
       "      <td>...</td>\n",
       "      <td>...</td>\n",
       "    </tr>\n",
       "    <tr>\n",
       "      <th>10909</th>\n",
       "      <td>WGS367H1</td>\n",
       "      <td>WGSI</td>\n",
       "      <td>S</td>\n",
       "      <td>6</td>\n",
       "      <td>1</td>\n",
       "      <td>CLASS</td>\n",
       "      <td>TUT</td>\n",
       "      <td>NaN</td>\n",
       "      <td>0.166667</td>\n",
       "    </tr>\n",
       "    <tr>\n",
       "      <th>10910</th>\n",
       "      <td>WGS367H1</td>\n",
       "      <td>WGSI</td>\n",
       "      <td>S</td>\n",
       "      <td>10</td>\n",
       "      <td>4</td>\n",
       "      <td>CLASS</td>\n",
       "      <td>TUT</td>\n",
       "      <td>NaN</td>\n",
       "      <td>0.400000</td>\n",
       "    </tr>\n",
       "    <tr>\n",
       "      <th>10911</th>\n",
       "      <td>WGS367H1</td>\n",
       "      <td>WGSI</td>\n",
       "      <td>S</td>\n",
       "      <td>15</td>\n",
       "      <td>15</td>\n",
       "      <td>ONLSYNC</td>\n",
       "      <td>TUT</td>\n",
       "      <td>NaN</td>\n",
       "      <td>1.000000</td>\n",
       "    </tr>\n",
       "    <tr>\n",
       "      <th>10912</th>\n",
       "      <td>WGS367H1</td>\n",
       "      <td>WGSI</td>\n",
       "      <td>S</td>\n",
       "      <td>19</td>\n",
       "      <td>4</td>\n",
       "      <td>ONLSYNC</td>\n",
       "      <td>TUT</td>\n",
       "      <td>NaN</td>\n",
       "      <td>0.210526</td>\n",
       "    </tr>\n",
       "    <tr>\n",
       "      <th>10913</th>\n",
       "      <td>WGS367H1</td>\n",
       "      <td>WGSI</td>\n",
       "      <td>S</td>\n",
       "      <td>15</td>\n",
       "      <td>8</td>\n",
       "      <td>ONLSYNC</td>\n",
       "      <td>TUT</td>\n",
       "      <td>NaN</td>\n",
       "      <td>0.533333</td>\n",
       "    </tr>\n",
       "  </tbody>\n",
       "</table>\n",
       "<p>4454 rows × 9 columns</p>\n",
       "</div>"
      ],
      "text/plain": [
       "           code   org section  enrollmentCapacity  actualEnrolment  \\\n",
       "3      USA300H1  CSUS       S                   9                6   \n",
       "4      USA300H1  CSUS       S                   9                1   \n",
       "5      USA300H1  CSUS       S                  21                5   \n",
       "6      USA300H1  CSUS       S                  21                3   \n",
       "21     ANA300Y1   ANA       Y                  67               67   \n",
       "...         ...   ...     ...                 ...              ...   \n",
       "10909  WGS367H1  WGSI       S                   6                1   \n",
       "10910  WGS367H1  WGSI       S                  10                4   \n",
       "10911  WGS367H1  WGSI       S                  15               15   \n",
       "10912  WGS367H1  WGSI       S                  19                4   \n",
       "10913  WGS367H1  WGSI       S                  15                8   \n",
       "\n",
       "      deliveryMode teachingMethod enrollmentControls  enrollmentPercentage  \n",
       "3            CLASS            TUT                NaN              0.666667  \n",
       "4            CLASS            TUT                NaN              0.111111  \n",
       "5          ONLSYNC            TUT                NaN              0.238095  \n",
       "6          ONLSYNC            TUT                NaN              0.142857  \n",
       "21         ONLSYNC            TUT                NaN              1.000000  \n",
       "...            ...            ...                ...                   ...  \n",
       "10909        CLASS            TUT                NaN              0.166667  \n",
       "10910        CLASS            TUT                NaN              0.400000  \n",
       "10911      ONLSYNC            TUT                NaN              1.000000  \n",
       "10912      ONLSYNC            TUT                NaN              0.210526  \n",
       "10913      ONLSYNC            TUT                NaN              0.533333  \n",
       "\n",
       "[4454 rows x 9 columns]"
      ]
     },
     "execution_count": 18,
     "metadata": {},
     "output_type": "execute_result"
    }
   ],
   "source": [
    "tutorials_with_enrollment"
   ]
  },
  {
   "cell_type": "code",
   "execution_count": 20,
   "metadata": {},
   "outputs": [],
   "source": [
    "sorted_tutorials = tutorials_with_enrollment.sort_values('enrollmentPercentage')"
   ]
  },
  {
   "cell_type": "code",
   "execution_count": 26,
   "metadata": {},
   "outputs": [],
   "source": [
    "def group_by_delivery_mode_and_sum(df): \n",
    "    frame = df.groupby(['deliveryMode']).agg({'enrollmentCapacity': 'sum', 'actualEnrolment': 'sum'})\n",
    "    frame['enrollmentPercentage'] = frame.apply(lambda row: row['actualEnrolment'] / row['enrollmentCapacity'] * 100, axis=1)\n",
    "    return frame"
   ]
  },
  {
   "cell_type": "code",
   "execution_count": 33,
   "metadata": {},
   "outputs": [],
   "source": [
    "tutorials_minus_onlasync = tutorials_with_enrollment[tutorials_with_enrollment.deliveryMode != 'ONLASYNC']"
   ]
  },
  {
   "cell_type": "code",
   "execution_count": 34,
   "metadata": {},
   "outputs": [],
   "source": [
    "sections_with_multiple_delivery_modes = tutorials_minus_onlasync.groupby(['code', 'section']).filter(lambda section: len(section['deliveryMode'].unique()) > 1)"
   ]
  },
  {
   "cell_type": "code",
   "execution_count": 35,
   "metadata": {},
   "outputs": [],
   "source": [
    "enrollments_with_multiple_modes = group_by_delivery_mode_and_sum(sections_with_multiple_delivery_modes)"
   ]
  },
  {
   "cell_type": "code",
   "execution_count": 36,
   "metadata": {},
   "outputs": [
    {
     "data": {
      "text/html": [
       "<div>\n",
       "<style scoped>\n",
       "    .dataframe tbody tr th:only-of-type {\n",
       "        vertical-align: middle;\n",
       "    }\n",
       "\n",
       "    .dataframe tbody tr th {\n",
       "        vertical-align: top;\n",
       "    }\n",
       "\n",
       "    .dataframe thead th {\n",
       "        text-align: right;\n",
       "    }\n",
       "</style>\n",
       "<table border=\"1\" class=\"dataframe\">\n",
       "  <thead>\n",
       "    <tr style=\"text-align: right;\">\n",
       "      <th></th>\n",
       "      <th>enrollmentCapacity</th>\n",
       "      <th>actualEnrolment</th>\n",
       "      <th>enrollmentPercentage</th>\n",
       "    </tr>\n",
       "    <tr>\n",
       "      <th>deliveryMode</th>\n",
       "      <th></th>\n",
       "      <th></th>\n",
       "      <th></th>\n",
       "    </tr>\n",
       "  </thead>\n",
       "  <tbody>\n",
       "    <tr>\n",
       "      <th>CLASS</th>\n",
       "      <td>19937</td>\n",
       "      <td>10458</td>\n",
       "      <td>52.455234</td>\n",
       "    </tr>\n",
       "    <tr>\n",
       "      <th>ONLSYNC</th>\n",
       "      <td>34554</td>\n",
       "      <td>23581</td>\n",
       "      <td>68.243908</td>\n",
       "    </tr>\n",
       "  </tbody>\n",
       "</table>\n",
       "</div>"
      ],
      "text/plain": [
       "              enrollmentCapacity  actualEnrolment  enrollmentPercentage\n",
       "deliveryMode                                                           \n",
       "CLASS                      19937            10458             52.455234\n",
       "ONLSYNC                    34554            23581             68.243908"
      ]
     },
     "execution_count": 36,
     "metadata": {},
     "output_type": "execute_result"
    }
   ],
   "source": [
    "enrollments_with_multiple_modes"
   ]
  },
  {
   "cell_type": "code",
   "execution_count": 37,
   "metadata": {},
   "outputs": [],
   "source": [
    "plot = lambda df: df[['enrollmentPercentage', 'actualEnrolment']].plot(secondary_y=['actualEnrolment'], kind='bar', rot=0)"
   ]
  },
  {
   "cell_type": "code",
   "execution_count": 38,
   "metadata": {},
   "outputs": [
    {
     "data": {
      "text/plain": [
       "<AxesSubplot:xlabel='deliveryMode'>"
      ]
     },
     "execution_count": 38,
     "metadata": {},
     "output_type": "execute_result"
    },
    {
     "data": {
      "image/png": "[encoded data removed]",
      "text/plain": [
       "<Figure size 1080x1080 with 2 Axes>"
      ]
     },
     "metadata": {
      "needs_background": "light"
     },
     "output_type": "display_data"
    }
   ],
   "source": [
    "plot(enrollments_with_multiple_modes)"
   ]
  },
  {
   "cell_type": "code",
   "execution_count": 39,
   "metadata": {},
   "outputs": [],
   "source": [
    "mat137_sections = sections_with_multiple_delivery_modes[sections_with_multiple_delivery_modes.code == 'MAT137Y1']"
   ]
  },
  {
   "cell_type": "code",
   "execution_count": 40,
   "metadata": {},
   "outputs": [
    {
     "data": {
      "text/html": [
       "<div>\n",
       "<style scoped>\n",
       "    .dataframe tbody tr th:only-of-type {\n",
       "        vertical-align: middle;\n",
       "    }\n",
       "\n",
       "    .dataframe tbody tr th {\n",
       "        vertical-align: top;\n",
       "    }\n",
       "\n",
       "    .dataframe thead th {\n",
       "        text-align: right;\n",
       "    }\n",
       "</style>\n",
       "<table border=\"1\" class=\"dataframe\">\n",
       "  <thead>\n",
       "    <tr style=\"text-align: right;\">\n",
       "      <th></th>\n",
       "      <th>code</th>\n",
       "      <th>org</th>\n",
       "      <th>section</th>\n",
       "      <th>enrollmentCapacity</th>\n",
       "      <th>actualEnrolment</th>\n",
       "      <th>deliveryMode</th>\n",
       "      <th>teachingMethod</th>\n",
       "      <th>enrollmentControls</th>\n",
       "      <th>enrollmentPercentage</th>\n",
       "    </tr>\n",
       "  </thead>\n",
       "  <tbody>\n",
       "    <tr>\n",
       "      <th>5526</th>\n",
       "      <td>MAT137Y1</td>\n",
       "      <td>MAT</td>\n",
       "      <td>Y</td>\n",
       "      <td>14</td>\n",
       "      <td>14</td>\n",
       "      <td>CLASS</td>\n",
       "      <td>TUT</td>\n",
       "      <td>NaN</td>\n",
       "      <td>1.000000</td>\n",
       "    </tr>\n",
       "    <tr>\n",
       "      <th>5527</th>\n",
       "      <td>MAT137Y1</td>\n",
       "      <td>MAT</td>\n",
       "      <td>Y</td>\n",
       "      <td>10</td>\n",
       "      <td>10</td>\n",
       "      <td>CLASS</td>\n",
       "      <td>TUT</td>\n",
       "      <td>NaN</td>\n",
       "      <td>1.000000</td>\n",
       "    </tr>\n",
       "    <tr>\n",
       "      <th>5528</th>\n",
       "      <td>MAT137Y1</td>\n",
       "      <td>MAT</td>\n",
       "      <td>Y</td>\n",
       "      <td>35</td>\n",
       "      <td>32</td>\n",
       "      <td>CLASS</td>\n",
       "      <td>TUT</td>\n",
       "      <td>NaN</td>\n",
       "      <td>0.914286</td>\n",
       "    </tr>\n",
       "    <tr>\n",
       "      <th>5529</th>\n",
       "      <td>MAT137Y1</td>\n",
       "      <td>MAT</td>\n",
       "      <td>Y</td>\n",
       "      <td>15</td>\n",
       "      <td>14</td>\n",
       "      <td>CLASS</td>\n",
       "      <td>TUT</td>\n",
       "      <td>NaN</td>\n",
       "      <td>0.933333</td>\n",
       "    </tr>\n",
       "    <tr>\n",
       "      <th>5530</th>\n",
       "      <td>MAT137Y1</td>\n",
       "      <td>MAT</td>\n",
       "      <td>Y</td>\n",
       "      <td>15</td>\n",
       "      <td>7</td>\n",
       "      <td>CLASS</td>\n",
       "      <td>TUT</td>\n",
       "      <td>NaN</td>\n",
       "      <td>0.466667</td>\n",
       "    </tr>\n",
       "    <tr>\n",
       "      <th>...</th>\n",
       "      <td>...</td>\n",
       "      <td>...</td>\n",
       "      <td>...</td>\n",
       "      <td>...</td>\n",
       "      <td>...</td>\n",
       "      <td>...</td>\n",
       "      <td>...</td>\n",
       "      <td>...</td>\n",
       "      <td>...</td>\n",
       "    </tr>\n",
       "    <tr>\n",
       "      <th>5613</th>\n",
       "      <td>MAT137Y1</td>\n",
       "      <td>MAT</td>\n",
       "      <td>Y</td>\n",
       "      <td>20</td>\n",
       "      <td>20</td>\n",
       "      <td>ONLSYNC</td>\n",
       "      <td>TUT</td>\n",
       "      <td>NaN</td>\n",
       "      <td>1.000000</td>\n",
       "    </tr>\n",
       "    <tr>\n",
       "      <th>5614</th>\n",
       "      <td>MAT137Y1</td>\n",
       "      <td>MAT</td>\n",
       "      <td>Y</td>\n",
       "      <td>11</td>\n",
       "      <td>11</td>\n",
       "      <td>ONLSYNC</td>\n",
       "      <td>TUT</td>\n",
       "      <td>NaN</td>\n",
       "      <td>1.000000</td>\n",
       "    </tr>\n",
       "    <tr>\n",
       "      <th>5615</th>\n",
       "      <td>MAT137Y1</td>\n",
       "      <td>MAT</td>\n",
       "      <td>Y</td>\n",
       "      <td>15</td>\n",
       "      <td>15</td>\n",
       "      <td>ONLSYNC</td>\n",
       "      <td>TUT</td>\n",
       "      <td>NaN</td>\n",
       "      <td>1.000000</td>\n",
       "    </tr>\n",
       "    <tr>\n",
       "      <th>5616</th>\n",
       "      <td>MAT137Y1</td>\n",
       "      <td>MAT</td>\n",
       "      <td>Y</td>\n",
       "      <td>15</td>\n",
       "      <td>15</td>\n",
       "      <td>ONLSYNC</td>\n",
       "      <td>TUT</td>\n",
       "      <td>NaN</td>\n",
       "      <td>1.000000</td>\n",
       "    </tr>\n",
       "    <tr>\n",
       "      <th>5617</th>\n",
       "      <td>MAT137Y1</td>\n",
       "      <td>MAT</td>\n",
       "      <td>Y</td>\n",
       "      <td>18</td>\n",
       "      <td>18</td>\n",
       "      <td>ONLSYNC</td>\n",
       "      <td>TUT</td>\n",
       "      <td>NaN</td>\n",
       "      <td>1.000000</td>\n",
       "    </tr>\n",
       "  </tbody>\n",
       "</table>\n",
       "<p>92 rows × 9 columns</p>\n",
       "</div>"
      ],
      "text/plain": [
       "          code  org section  enrollmentCapacity  actualEnrolment deliveryMode  \\\n",
       "5526  MAT137Y1  MAT       Y                  14               14        CLASS   \n",
       "5527  MAT137Y1  MAT       Y                  10               10        CLASS   \n",
       "5528  MAT137Y1  MAT       Y                  35               32        CLASS   \n",
       "5529  MAT137Y1  MAT       Y                  15               14        CLASS   \n",
       "5530  MAT137Y1  MAT       Y                  15                7        CLASS   \n",
       "...        ...  ...     ...                 ...              ...          ...   \n",
       "5613  MAT137Y1  MAT       Y                  20               20      ONLSYNC   \n",
       "5614  MAT137Y1  MAT       Y                  11               11      ONLSYNC   \n",
       "5615  MAT137Y1  MAT       Y                  15               15      ONLSYNC   \n",
       "5616  MAT137Y1  MAT       Y                  15               15      ONLSYNC   \n",
       "5617  MAT137Y1  MAT       Y                  18               18      ONLSYNC   \n",
       "\n",
       "     teachingMethod enrollmentControls  enrollmentPercentage  \n",
       "5526            TUT                NaN              1.000000  \n",
       "5527            TUT                NaN              1.000000  \n",
       "5528            TUT                NaN              0.914286  \n",
       "5529            TUT                NaN              0.933333  \n",
       "5530            TUT                NaN              0.466667  \n",
       "...             ...                ...                   ...  \n",
       "5613            TUT                NaN              1.000000  \n",
       "5614            TUT                NaN              1.000000  \n",
       "5615            TUT                NaN              1.000000  \n",
       "5616            TUT                NaN              1.000000  \n",
       "5617            TUT                NaN              1.000000  \n",
       "\n",
       "[92 rows x 9 columns]"
      ]
     },
     "execution_count": 40,
     "metadata": {},
     "output_type": "execute_result"
    }
   ],
   "source": [
    "mat137_sections"
   ]
  },
  {
   "cell_type": "code",
   "execution_count": 41,
   "metadata": {},
   "outputs": [],
   "source": [
    "mat137_by_delivery_mode = group_by_delivery_mode_and_sum(mat137_sections)"
   ]
  },
  {
   "cell_type": "code",
   "execution_count": 42,
   "metadata": {},
   "outputs": [
    {
     "data": {
      "text/html": [
       "<div>\n",
       "<style scoped>\n",
       "    .dataframe tbody tr th:only-of-type {\n",
       "        vertical-align: middle;\n",
       "    }\n",
       "\n",
       "    .dataframe tbody tr th {\n",
       "        vertical-align: top;\n",
       "    }\n",
       "\n",
       "    .dataframe thead th {\n",
       "        text-align: right;\n",
       "    }\n",
       "</style>\n",
       "<table border=\"1\" class=\"dataframe\">\n",
       "  <thead>\n",
       "    <tr style=\"text-align: right;\">\n",
       "      <th></th>\n",
       "      <th>enrollmentCapacity</th>\n",
       "      <th>actualEnrolment</th>\n",
       "      <th>enrollmentPercentage</th>\n",
       "    </tr>\n",
       "    <tr>\n",
       "      <th>deliveryMode</th>\n",
       "      <th></th>\n",
       "      <th></th>\n",
       "      <th></th>\n",
       "    </tr>\n",
       "  </thead>\n",
       "  <tbody>\n",
       "    <tr>\n",
       "      <th>CLASS</th>\n",
       "      <td>825</td>\n",
       "      <td>302</td>\n",
       "      <td>36.606061</td>\n",
       "    </tr>\n",
       "    <tr>\n",
       "      <th>ONLSYNC</th>\n",
       "      <td>797</td>\n",
       "      <td>788</td>\n",
       "      <td>98.870765</td>\n",
       "    </tr>\n",
       "  </tbody>\n",
       "</table>\n",
       "</div>"
      ],
      "text/plain": [
       "              enrollmentCapacity  actualEnrolment  enrollmentPercentage\n",
       "deliveryMode                                                           \n",
       "CLASS                        825              302             36.606061\n",
       "ONLSYNC                      797              788             98.870765"
      ]
     },
     "execution_count": 42,
     "metadata": {},
     "output_type": "execute_result"
    }
   ],
   "source": [
    "mat137_by_delivery_mode"
   ]
  },
  {
   "cell_type": "code",
   "execution_count": 43,
   "metadata": {},
   "outputs": [],
   "source": [
    "mat137_sorted = mat137_sections.sort_values('enrollmentPercentage')"
   ]
  },
  {
   "cell_type": "code",
   "execution_count": 47,
   "metadata": {},
   "outputs": [],
   "source": [
    "mat137_sorted['enrollmentPercentage'] = mat137_sorted['enrollmentPercentage'] * 100"
   ]
  },
  {
   "cell_type": "code",
   "execution_count": 66,
   "metadata": {},
   "outputs": [
    {
     "data": {
      "text/plain": [
       "Text(0.5, 1.0, 'MAT137 Tutorial Enrolment')"
      ]
     },
     "execution_count": 66,
     "metadata": {},
     "output_type": "execute_result"
    },
    {
     "data": {
      "image/png": "[encoded data removed]",
      "text/plain": [
       "<Figure size 1080x1080 with 1 Axes>"
      ]
     },
     "metadata": {
      "needs_background": "light"
     },
     "output_type": "display_data"
    }
   ],
   "source": [
    "fig, ax = plt.subplots()\n",
    "mat137_sorted.plot(kind='bar', y='enrollmentPercentage', color=np.where(mat137_sections['deliveryMode'] == 'CLASS', 'r', 'b'), ax=ax)\n",
    "\n",
    "from matplotlib.lines import Line2D\n",
    "\n",
    "custom_lines = [Line2D([0], [0], color='r', lw=4),\n",
    "                Line2D([0], [0], color='b', lw=4)]\n",
    "ax.legend(custom_lines, ['In person', 'Online'])\n",
    "plt.xticks([])\n",
    "plt.ylabel(\"Percentage enrolled\")\n",
    "plt.xlabel(\"Tutorials\")\n",
    "plt.title(\"MAT137 Tutorial Enrolment\")"
   ]
  },
  {
   "cell_type": "code",
   "execution_count": null,
   "metadata": {},
   "outputs": [],
   "source": []
  }
 ],
 "metadata": {
  "kernelspec": {
   "display_name": "Python 3",
   "language": "python",
   "name": "python3"
  },
  "language_info": {
   "codemirror_mode": {
    "name": "ipython",
    "version": 3
   },
   "file_extension": ".py",
   "mimetype": "text/x-python",
   "name": "python",
   "nbconvert_exporter": "python",
   "pygments_lexer": "ipython3",
   "version": "3.8.2"
  }
 },
 "nbformat": 4,
 "nbformat_minor": 4
}
